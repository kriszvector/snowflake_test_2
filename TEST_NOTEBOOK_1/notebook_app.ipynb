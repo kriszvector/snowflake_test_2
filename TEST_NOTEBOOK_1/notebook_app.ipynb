{
 "metadata": {
  "kernelspec": {
   "display_name": "Streamlit Notebook",
   "name": "streamlit"
  }
 },
 "nbformat_minor": 5,
 "nbformat": 4,
 "cells": [
  {
   "cell_type": "code",
   "id": "5a72c69d-ff0c-4b5a-aa09-18bb4786e9b4",
   "metadata": {
    "language": "sql",
    "name": "cell1",
    "collapsed": false,
    "resultHeight": 111
   },
   "outputs": [],
   "source": "set x = 100;",
   "execution_count": null
  },
  {
   "cell_type": "code",
   "id": "2c67f63d-cfc1-471e-8c2f-e465517e4de4",
   "metadata": {
    "language": "sql",
    "name": "cell2",
    "collapsed": false,
    "resultHeight": 111
   },
   "outputs": [],
   "source": "select $x;",
   "execution_count": null
  }
 ]
}